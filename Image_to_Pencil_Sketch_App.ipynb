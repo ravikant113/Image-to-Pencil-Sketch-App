{
  "nbformat": 4,
  "nbformat_minor": 0,
  "metadata": {
    "colab": {
      "provenance": []
    },
    "kernelspec": {
      "name": "python3",
      "display_name": "Python 3"
    },
    "language_info": {
      "name": "python"
    }
  },
  "cells": [
    {
      "cell_type": "code",
      "execution_count": 1,
      "metadata": {
        "id": "JJdPEk6cTD9g"
      },
      "outputs": [],
      "source": [
        "import cv2\n",
        "import numpy as np\n",
        "from google.colab import files\n",
        "from IPython.display import display\n",
        "import ipywidgets as widgets\n",
        "from IPython.display import display\n"
      ]
    },
    {
      "cell_type": "code",
      "source": [
        "upload = widgets.FileUpload()\n",
        "display(upload)\n",
        "\n",
        "def on_upload_change(change):\n",
        "    if upload.data:\n",
        "        img = cv2.imdecode(np.frombuffer(upload.data[0], np.uint8), -1)\n",
        "        sketch = create_pencil_sketch(img)\n",
        "        cv2.imwrite('746.jpg', sketch)\n",
        "        display(widgets.Image(value=open('746.jpg', 'rb').read()))\n",
        "\n",
        "upload.observe(on_upload_change, names='_counter')\n"
      ],
      "metadata": {
        "id": "jm0r5ZhGTNcD"
      },
      "execution_count": null,
      "outputs": []
    },
    {
      "cell_type": "code",
      "source": [
        "def create_pencil_sketch(image):\n",
        "    gray = cv2.cvtColor(image, cv2.COLOR_BGR2GRAY)\n",
        "    inverted_gray = cv2.bitwise_not(gray)\n",
        "    blurred = cv2.GaussianBlur(inverted_gray, (21, 21), sigmaX=0, sigmaY=0)\n",
        "    pencil_sketch = cv2.divide(255, blurred, scale=256)\n",
        "    return pencil_sketch\n"
      ],
      "metadata": {
        "id": "Qmsol8GpTSYQ"
      },
      "execution_count": 3,
      "outputs": []
    },
    {
      "cell_type": "code",
      "source": [
        "display(upload)\n"
      ],
      "metadata": {
        "id": "8-FS6zp9Tyf2"
      },
      "execution_count": null,
      "outputs": []
    },
    {
      "cell_type": "code",
      "source": [],
      "metadata": {
        "id": "YQyKn14GT9iS"
      },
      "execution_count": null,
      "outputs": []
    }
  ]
}